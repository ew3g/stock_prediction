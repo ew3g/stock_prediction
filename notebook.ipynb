{
 "cells": [
  {
   "cell_type": "code",
   "execution_count": 15,
   "metadata": {},
   "outputs": [],
   "source": [
    "import pandas as pd\n",
    "pd.set_option('display.float_format', lambda x: '%.2f' % x)\n",
    "import math\n",
    "from sklearn.preprocessing import MinMaxScaler\n",
    "import numpy as np\n",
    "import datetime\n",
    "import pandas_datareader as web\n",
    "import yfinance as yf\n",
    "yf.pdr_override()\n",
    "import matplotlib.pyplot as plt\n",
    "%matplotlib inline\n",
    "from IPython.display import display, HTML"
   ]
  },
  {
   "cell_type": "code",
   "execution_count": 6,
   "metadata": {},
   "outputs": [],
   "source": [
    "#Date range\n",
    "start = datetime.datetime(2010, 1, 1)\n",
    "end = datetime.date(2022, 1, 1)"
   ]
  },
  {
   "cell_type": "code",
   "execution_count": 8,
   "metadata": {},
   "outputs": [],
   "source": [
    "#Getting the data\n",
    "petr4 = web.get_data_yahoo('PETR4.SA', start, end)"
   ]
  },
  {
   "cell_type": "code",
   "execution_count": 9,
   "metadata": {},
   "outputs": [
    {
     "data": {
      "text/html": [
       "<div>\n",
       "<style scoped>\n",
       "    .dataframe tbody tr th:only-of-type {\n",
       "        vertical-align: middle;\n",
       "    }\n",
       "\n",
       "    .dataframe tbody tr th {\n",
       "        vertical-align: top;\n",
       "    }\n",
       "\n",
       "    .dataframe thead th {\n",
       "        text-align: right;\n",
       "    }\n",
       "</style>\n",
       "<table border=\"1\" class=\"dataframe\">\n",
       "  <thead>\n",
       "    <tr style=\"text-align: right;\">\n",
       "      <th></th>\n",
       "      <th>High</th>\n",
       "      <th>Low</th>\n",
       "      <th>Open</th>\n",
       "      <th>Close</th>\n",
       "      <th>Volume</th>\n",
       "      <th>Adj Close</th>\n",
       "    </tr>\n",
       "    <tr>\n",
       "      <th>Date</th>\n",
       "      <th></th>\n",
       "      <th></th>\n",
       "      <th></th>\n",
       "      <th></th>\n",
       "      <th></th>\n",
       "      <th></th>\n",
       "    </tr>\n",
       "  </thead>\n",
       "  <tbody>\n",
       "    <tr>\n",
       "      <th>2010-01-04</th>\n",
       "      <td>37.32</td>\n",
       "      <td>36.82</td>\n",
       "      <td>36.95</td>\n",
       "      <td>37.32</td>\n",
       "      <td>13303600.00</td>\n",
       "      <td>23.64</td>\n",
       "    </tr>\n",
       "    <tr>\n",
       "      <th>2010-01-05</th>\n",
       "      <td>37.43</td>\n",
       "      <td>36.80</td>\n",
       "      <td>37.38</td>\n",
       "      <td>37.00</td>\n",
       "      <td>21396400.00</td>\n",
       "      <td>23.44</td>\n",
       "    </tr>\n",
       "    <tr>\n",
       "      <th>2010-01-06</th>\n",
       "      <td>37.50</td>\n",
       "      <td>36.80</td>\n",
       "      <td>36.80</td>\n",
       "      <td>37.50</td>\n",
       "      <td>18720600.00</td>\n",
       "      <td>23.76</td>\n",
       "    </tr>\n",
       "    <tr>\n",
       "      <th>2010-01-07</th>\n",
       "      <td>37.45</td>\n",
       "      <td>37.07</td>\n",
       "      <td>37.27</td>\n",
       "      <td>37.15</td>\n",
       "      <td>10964600.00</td>\n",
       "      <td>23.54</td>\n",
       "    </tr>\n",
       "    <tr>\n",
       "      <th>2010-01-08</th>\n",
       "      <td>37.39</td>\n",
       "      <td>36.86</td>\n",
       "      <td>37.16</td>\n",
       "      <td>36.95</td>\n",
       "      <td>14624200.00</td>\n",
       "      <td>23.41</td>\n",
       "    </tr>\n",
       "  </tbody>\n",
       "</table>\n",
       "</div>"
      ],
      "text/plain": [
       "            High   Low  Open  Close      Volume  Adj Close\n",
       "Date                                                      \n",
       "2010-01-04 37.32 36.82 36.95  37.32 13303600.00      23.64\n",
       "2010-01-05 37.43 36.80 37.38  37.00 21396400.00      23.44\n",
       "2010-01-06 37.50 36.80 36.80  37.50 18720600.00      23.76\n",
       "2010-01-07 37.45 37.07 37.27  37.15 10964600.00      23.54\n",
       "2010-01-08 37.39 36.86 37.16  36.95 14624200.00      23.41"
      ]
     },
     "execution_count": 9,
     "metadata": {},
     "output_type": "execute_result"
    }
   ],
   "source": [
    "petr4.head()"
   ]
  },
  {
   "cell_type": "code",
   "execution_count": 10,
   "metadata": {},
   "outputs": [
    {
     "data": {
      "text/html": [
       "<div>\n",
       "<style scoped>\n",
       "    .dataframe tbody tr th:only-of-type {\n",
       "        vertical-align: middle;\n",
       "    }\n",
       "\n",
       "    .dataframe tbody tr th {\n",
       "        vertical-align: top;\n",
       "    }\n",
       "\n",
       "    .dataframe thead th {\n",
       "        text-align: right;\n",
       "    }\n",
       "</style>\n",
       "<table border=\"1\" class=\"dataframe\">\n",
       "  <thead>\n",
       "    <tr style=\"text-align: right;\">\n",
       "      <th></th>\n",
       "      <th>High</th>\n",
       "      <th>Low</th>\n",
       "      <th>Open</th>\n",
       "      <th>Close</th>\n",
       "      <th>Volume</th>\n",
       "      <th>Adj Close</th>\n",
       "    </tr>\n",
       "    <tr>\n",
       "      <th>Date</th>\n",
       "      <th></th>\n",
       "      <th></th>\n",
       "      <th></th>\n",
       "      <th></th>\n",
       "      <th></th>\n",
       "      <th></th>\n",
       "    </tr>\n",
       "  </thead>\n",
       "  <tbody>\n",
       "    <tr>\n",
       "      <th>2021-12-23</th>\n",
       "      <td>28.42</td>\n",
       "      <td>28.15</td>\n",
       "      <td>28.33</td>\n",
       "      <td>28.33</td>\n",
       "      <td>28713600.00</td>\n",
       "      <td>28.33</td>\n",
       "    </tr>\n",
       "    <tr>\n",
       "      <th>2021-12-27</th>\n",
       "      <td>28.78</td>\n",
       "      <td>28.15</td>\n",
       "      <td>28.32</td>\n",
       "      <td>28.75</td>\n",
       "      <td>44227900.00</td>\n",
       "      <td>28.75</td>\n",
       "    </tr>\n",
       "    <tr>\n",
       "      <th>2021-12-28</th>\n",
       "      <td>29.28</td>\n",
       "      <td>28.70</td>\n",
       "      <td>29.01</td>\n",
       "      <td>28.78</td>\n",
       "      <td>30688100.00</td>\n",
       "      <td>28.78</td>\n",
       "    </tr>\n",
       "    <tr>\n",
       "      <th>2021-12-29</th>\n",
       "      <td>28.90</td>\n",
       "      <td>28.42</td>\n",
       "      <td>28.70</td>\n",
       "      <td>28.54</td>\n",
       "      <td>35508400.00</td>\n",
       "      <td>28.54</td>\n",
       "    </tr>\n",
       "    <tr>\n",
       "      <th>2021-12-30</th>\n",
       "      <td>28.70</td>\n",
       "      <td>28.39</td>\n",
       "      <td>28.55</td>\n",
       "      <td>28.45</td>\n",
       "      <td>43229100.00</td>\n",
       "      <td>28.45</td>\n",
       "    </tr>\n",
       "  </tbody>\n",
       "</table>\n",
       "</div>"
      ],
      "text/plain": [
       "            High   Low  Open  Close      Volume  Adj Close\n",
       "Date                                                      \n",
       "2021-12-23 28.42 28.15 28.33  28.33 28713600.00      28.33\n",
       "2021-12-27 28.78 28.15 28.32  28.75 44227900.00      28.75\n",
       "2021-12-28 29.28 28.70 29.01  28.78 30688100.00      28.78\n",
       "2021-12-29 28.90 28.42 28.70  28.54 35508400.00      28.54\n",
       "2021-12-30 28.70 28.39 28.55  28.45 43229100.00      28.45"
      ]
     },
     "execution_count": 10,
     "metadata": {},
     "output_type": "execute_result"
    }
   ],
   "source": [
    "petr4.tail()"
   ]
  },
  {
   "cell_type": "code",
   "execution_count": 11,
   "metadata": {},
   "outputs": [],
   "source": [
    "#Plot function\n",
    "def plot_stock(df, stock_name):\n",
    "    plt.rcParams[\"figure.figsize\"] = [14,5]\n",
    "    plt.plot(df.index, df['Close'])\n",
    "    plt.xlabel('Date')\n",
    "    plt.ylabel('Value R$')\n",
    "    plt.title(stock_name)"
   ]
  },
  {
   "cell_type": "code",
   "execution_count": 12,
   "metadata": {},
   "outputs": [
    {
     "data": {
      "image/png": "[encoded data removed]",
      "text/plain": [
       "<Figure size 1008x360 with 1 Axes>"
      ]
     },
     "metadata": {
      "needs_background": "light"
     },
     "output_type": "display_data"
    }
   ],
   "source": [
    "#Plotting PETR4\n",
    "plot_stock(petr4, 'Petrobras')"
   ]
  },
  {
   "cell_type": "code",
   "execution_count": 20,
   "metadata": {},
   "outputs": [],
   "source": [
    "#PETR4 dataset\n",
    "data_petr4 = petr4.filter(['Close'])\n",
    "dataset_petr4 = data_petr4.values\n",
    "training_data_len_petr4 = math.ceil(len(data_petr4 * .8))"
   ]
  },
  {
   "cell_type": "code",
   "execution_count": 21,
   "metadata": {},
   "outputs": [],
   "source": [
    "#Scaling the data\n",
    "scaler = MinMaxScaler(feature_range=(0,1))\n",
    "scaled_data = scaler.fit_transform(dataset_petr4)"
   ]
  },
  {
   "cell_type": "code",
   "execution_count": 26,
   "metadata": {},
   "outputs": [],
   "source": [
    "#Creating scaled training dataset\n",
    "train_data = scaled_data[0:training_data_len_petr4, :]\n",
    "\n",
    "#Splitting data x_train and y_train\n",
    "#Prediction for stock closing price based on last 60 days\n",
    "x_train = []\n",
    "y_train = []\n",
    "for i in range(60, len(train_data)):\n",
    "    x_train.append(train_data[i-60:i,0])\n",
    "    y_train.append(train_data[i,0])"
   ]
  },
  {
   "cell_type": "code",
   "execution_count": null,
   "metadata": {},
   "outputs": [],
   "source": [
    "#Converting x_train and y_train to numpy arrays\n",
    "x_train, y_train = np.array(x_train), np.array(y_train)"
   ]
  }
 ],
 "metadata": {
  "interpreter": {
   "hash": "337ba8bc5a43d5375170939e0772ca369fc2227911cd9d2be11fa82f9dcf45ff"
  },
  "kernelspec": {
   "display_name": "Python 3.10.1 ('venv': venv)",
   "language": "python",
   "name": "python3"
  },
  "language_info": {
   "codemirror_mode": {
    "name": "ipython",
    "version": 3
   },
   "file_extension": ".py",
   "mimetype": "text/x-python",
   "name": "python",
   "nbconvert_exporter": "python",
   "pygments_lexer": "ipython3",
   "version": "3.10.1"
  },
  "orig_nbformat": 4
 },
 "nbformat": 4,
 "nbformat_minor": 2
}
