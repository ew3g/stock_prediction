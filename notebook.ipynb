{
 "cells": [
  {
   "cell_type": "code",
   "execution_count": 18,
   "metadata": {},
   "outputs": [],
   "source": [
    "import pandas as pd\n",
    "pd.set_option('display.float_format', lambda x: '%.2f' % x)\n",
    "import math\n",
    "from sklearn.preprocessing import MinMaxScaler\n",
    "from keras.models import Sequential, load_model\n",
    "from keras.layers import Dense, Dropout, LSTM\n",
    "import numpy as np\n",
    "import datetime\n",
    "import pandas_datareader as web\n",
    "import yfinance as yf\n",
    "yf.pdr_override()\n",
    "import matplotlib.pyplot as plt\n",
    "%matplotlib inline\n",
    "from IPython.display import display, HTML"
   ]
  },
  {
   "cell_type": "code",
   "execution_count": 19,
   "metadata": {},
   "outputs": [],
   "source": [
    "#Date range\n",
    "start = datetime.datetime(2010, 1, 1)\n",
    "end = datetime.date(2022, 1, 1)"
   ]
  },
  {
   "cell_type": "code",
   "execution_count": 20,
   "metadata": {},
   "outputs": [],
   "source": [
    "#Getting the data\n",
    "petr4 = web.get_data_yahoo('PETR4.SA', start, end)"
   ]
  },
  {
   "cell_type": "code",
   "execution_count": 21,
   "metadata": {},
   "outputs": [
    {
     "data": {
      "text/html": [
       "<div>\n",
       "<style scoped>\n",
       "    .dataframe tbody tr th:only-of-type {\n",
       "        vertical-align: middle;\n",
       "    }\n",
       "\n",
       "    .dataframe tbody tr th {\n",
       "        vertical-align: top;\n",
       "    }\n",
       "\n",
       "    .dataframe thead th {\n",
       "        text-align: right;\n",
       "    }\n",
       "</style>\n",
       "<table border=\"1\" class=\"dataframe\">\n",
       "  <thead>\n",
       "    <tr style=\"text-align: right;\">\n",
       "      <th></th>\n",
       "      <th>High</th>\n",
       "      <th>Low</th>\n",
       "      <th>Open</th>\n",
       "      <th>Close</th>\n",
       "      <th>Volume</th>\n",
       "      <th>Adj Close</th>\n",
       "    </tr>\n",
       "    <tr>\n",
       "      <th>Date</th>\n",
       "      <th></th>\n",
       "      <th></th>\n",
       "      <th></th>\n",
       "      <th></th>\n",
       "      <th></th>\n",
       "      <th></th>\n",
       "    </tr>\n",
       "  </thead>\n",
       "  <tbody>\n",
       "    <tr>\n",
       "      <th>2010-01-04</th>\n",
       "      <td>37.32</td>\n",
       "      <td>36.82</td>\n",
       "      <td>36.95</td>\n",
       "      <td>37.32</td>\n",
       "      <td>13303600.00</td>\n",
       "      <td>23.64</td>\n",
       "    </tr>\n",
       "    <tr>\n",
       "      <th>2010-01-05</th>\n",
       "      <td>37.43</td>\n",
       "      <td>36.80</td>\n",
       "      <td>37.38</td>\n",
       "      <td>37.00</td>\n",
       "      <td>21396400.00</td>\n",
       "      <td>23.44</td>\n",
       "    </tr>\n",
       "    <tr>\n",
       "      <th>2010-01-06</th>\n",
       "      <td>37.50</td>\n",
       "      <td>36.80</td>\n",
       "      <td>36.80</td>\n",
       "      <td>37.50</td>\n",
       "      <td>18720600.00</td>\n",
       "      <td>23.76</td>\n",
       "    </tr>\n",
       "    <tr>\n",
       "      <th>2010-01-07</th>\n",
       "      <td>37.45</td>\n",
       "      <td>37.07</td>\n",
       "      <td>37.27</td>\n",
       "      <td>37.15</td>\n",
       "      <td>10964600.00</td>\n",
       "      <td>23.54</td>\n",
       "    </tr>\n",
       "    <tr>\n",
       "      <th>2010-01-08</th>\n",
       "      <td>37.39</td>\n",
       "      <td>36.86</td>\n",
       "      <td>37.16</td>\n",
       "      <td>36.95</td>\n",
       "      <td>14624200.00</td>\n",
       "      <td>23.41</td>\n",
       "    </tr>\n",
       "  </tbody>\n",
       "</table>\n",
       "</div>"
      ],
      "text/plain": [
       "            High   Low  Open  Close      Volume  Adj Close\n",
       "Date                                                      \n",
       "2010-01-04 37.32 36.82 36.95  37.32 13303600.00      23.64\n",
       "2010-01-05 37.43 36.80 37.38  37.00 21396400.00      23.44\n",
       "2010-01-06 37.50 36.80 36.80  37.50 18720600.00      23.76\n",
       "2010-01-07 37.45 37.07 37.27  37.15 10964600.00      23.54\n",
       "2010-01-08 37.39 36.86 37.16  36.95 14624200.00      23.41"
      ]
     },
     "execution_count": 21,
     "metadata": {},
     "output_type": "execute_result"
    }
   ],
   "source": [
    "petr4.head()"
   ]
  },
  {
   "cell_type": "code",
   "execution_count": 22,
   "metadata": {},
   "outputs": [
    {
     "data": {
      "text/html": [
       "<div>\n",
       "<style scoped>\n",
       "    .dataframe tbody tr th:only-of-type {\n",
       "        vertical-align: middle;\n",
       "    }\n",
       "\n",
       "    .dataframe tbody tr th {\n",
       "        vertical-align: top;\n",
       "    }\n",
       "\n",
       "    .dataframe thead th {\n",
       "        text-align: right;\n",
       "    }\n",
       "</style>\n",
       "<table border=\"1\" class=\"dataframe\">\n",
       "  <thead>\n",
       "    <tr style=\"text-align: right;\">\n",
       "      <th></th>\n",
       "      <th>High</th>\n",
       "      <th>Low</th>\n",
       "      <th>Open</th>\n",
       "      <th>Close</th>\n",
       "      <th>Volume</th>\n",
       "      <th>Adj Close</th>\n",
       "    </tr>\n",
       "    <tr>\n",
       "      <th>Date</th>\n",
       "      <th></th>\n",
       "      <th></th>\n",
       "      <th></th>\n",
       "      <th></th>\n",
       "      <th></th>\n",
       "      <th></th>\n",
       "    </tr>\n",
       "  </thead>\n",
       "  <tbody>\n",
       "    <tr>\n",
       "      <th>2021-12-23</th>\n",
       "      <td>28.42</td>\n",
       "      <td>28.15</td>\n",
       "      <td>28.33</td>\n",
       "      <td>28.33</td>\n",
       "      <td>28713600.00</td>\n",
       "      <td>28.33</td>\n",
       "    </tr>\n",
       "    <tr>\n",
       "      <th>2021-12-27</th>\n",
       "      <td>28.78</td>\n",
       "      <td>28.15</td>\n",
       "      <td>28.32</td>\n",
       "      <td>28.75</td>\n",
       "      <td>44227900.00</td>\n",
       "      <td>28.75</td>\n",
       "    </tr>\n",
       "    <tr>\n",
       "      <th>2021-12-28</th>\n",
       "      <td>29.28</td>\n",
       "      <td>28.70</td>\n",
       "      <td>29.01</td>\n",
       "      <td>28.78</td>\n",
       "      <td>30688100.00</td>\n",
       "      <td>28.78</td>\n",
       "    </tr>\n",
       "    <tr>\n",
       "      <th>2021-12-29</th>\n",
       "      <td>28.90</td>\n",
       "      <td>28.42</td>\n",
       "      <td>28.70</td>\n",
       "      <td>28.54</td>\n",
       "      <td>35508400.00</td>\n",
       "      <td>28.54</td>\n",
       "    </tr>\n",
       "    <tr>\n",
       "      <th>2021-12-30</th>\n",
       "      <td>28.70</td>\n",
       "      <td>28.39</td>\n",
       "      <td>28.55</td>\n",
       "      <td>28.45</td>\n",
       "      <td>43229100.00</td>\n",
       "      <td>28.45</td>\n",
       "    </tr>\n",
       "  </tbody>\n",
       "</table>\n",
       "</div>"
      ],
      "text/plain": [
       "            High   Low  Open  Close      Volume  Adj Close\n",
       "Date                                                      \n",
       "2021-12-23 28.42 28.15 28.33  28.33 28713600.00      28.33\n",
       "2021-12-27 28.78 28.15 28.32  28.75 44227900.00      28.75\n",
       "2021-12-28 29.28 28.70 29.01  28.78 30688100.00      28.78\n",
       "2021-12-29 28.90 28.42 28.70  28.54 35508400.00      28.54\n",
       "2021-12-30 28.70 28.39 28.55  28.45 43229100.00      28.45"
      ]
     },
     "execution_count": 22,
     "metadata": {},
     "output_type": "execute_result"
    }
   ],
   "source": [
    "petr4.tail()"
   ]
  },
  {
   "cell_type": "code",
   "execution_count": 23,
   "metadata": {},
   "outputs": [
    {
     "data": {
      "text/plain": [
       "(2975, 6)"
      ]
     },
     "execution_count": 23,
     "metadata": {},
     "output_type": "execute_result"
    }
   ],
   "source": [
    "#shape\n",
    "petr4.shape"
   ]
  },
  {
   "cell_type": "code",
   "execution_count": 24,
   "metadata": {},
   "outputs": [],
   "source": [
    "#Plot function\n",
    "def plot_stock(df, stock_name):\n",
    "    plt.rcParams[\"figure.figsize\"] = [14,5]\n",
    "    plt.plot(df.index, df['Close'])\n",
    "    plt.xlabel('Date')\n",
    "    plt.ylabel('Value R$')\n",
    "    plt.title(stock_name)"
   ]
  },
  {
   "cell_type": "code",
   "execution_count": 25,
   "metadata": {},
   "outputs": [
    {
     "data": {
      "image/png": "[encoded data removed]",
      "text/plain": [
       "<Figure size 1008x360 with 1 Axes>"
      ]
     },
     "metadata": {
      "needs_background": "light"
     },
     "output_type": "display_data"
    }
   ],
   "source": [
    "#Plotting PETR4\n",
    "plot_stock(petr4, 'Petrobras')"
   ]
  },
  {
   "cell_type": "code",
   "execution_count": 32,
   "metadata": {},
   "outputs": [],
   "source": [
    "#Using only the close value for prediction\n",
    "petr4 = petr4['Open'].values\n",
    "petr4 = petr4.reshape(-1, 1)"
   ]
  },
  {
   "cell_type": "code",
   "execution_count": 34,
   "metadata": {},
   "outputs": [],
   "source": [
    "#Splitting the data\n",
    "petr4_train = np.array(petr4[:int(petr4.shape[0] * 0.8)])\n",
    "petr4_test = np.array(petr4[int(petr4.shape[0] * 0.8):])"
   ]
  },
  {
   "cell_type": "code",
   "execution_count": 40,
   "metadata": {},
   "outputs": [],
   "source": [
    "#Scaling the data\n",
    "scaler = MinMaxScaler(feature_range=(0,1))\n",
    "petr4_train = scaler.fit_transform(petr4_train)\n",
    "petr4_test = scaler.fit_transform(petr4_test)"
   ]
  },
  {
   "cell_type": "code",
   "execution_count": 48,
   "metadata": {},
   "outputs": [],
   "source": [
    "#Function to create the dataset\n",
    "#The last 50 closing prices define the 51th day price\n",
    "def create_dataset(df):\n",
    "    x = []\n",
    "    y = []\n",
    "    \n",
    "    for i in range(50, df.shape[0]):\n",
    "        x.append(df[i-50:i, 0])\n",
    "        y.append(df[i, 0])\n",
    "\n",
    "    x = np.array(x)\n",
    "    y = np.array(y)\n",
    "    \n",
    "    return x,y"
   ]
  },
  {
   "cell_type": "code",
   "execution_count": 49,
   "metadata": {},
   "outputs": [],
   "source": [
    "#Creating the dataset for test and training data\n",
    "x_train, y_train = create_dataset(petr4_train)\n",
    "x_test, y_test = create_dataset(petr4_test)"
   ]
  },
  {
   "cell_type": "code",
   "execution_count": 50,
   "metadata": {},
   "outputs": [],
   "source": [
    "#Reshaping the data to 3D model for LSTM layer\n",
    "x_train = np.reshape(x_train, (x_train.shape[0], x_train.shape[1], 1))\n",
    "x_test = np.reshape(x_test, (x_test.shape[0], x_test.shape[1], 1))"
   ]
  },
  {
   "cell_type": "code",
   "execution_count": 54,
   "metadata": {},
   "outputs": [],
   "source": [
    "#Building the model\n",
    "model = Sequential()\n",
    "model.add(LSTM(units=96, return_sequences=True, input_shape=(x_train.shape[1], 1)))\n",
    "model.add(Dropout(0.2))\n",
    "model.add(LSTM(units=96, return_sequences=True))\n",
    "model.add(Dropout(0.2))\n",
    "model.add(LSTM(units=96, return_sequences=True))\n",
    "model.add(Dropout(0.2))\n",
    "model.add(LSTM(units=96))\n",
    "model.add(Dropout(0.2))\n",
    "model.add(Dense(units=1))"
   ]
  },
  {
   "cell_type": "code",
   "execution_count": 55,
   "metadata": {},
   "outputs": [],
   "source": [
    "#Reshaping for the LSTM layer\n",
    "x_train = np.reshape(x_train, (x_train.shape[0], x_train.shape[1], 1))\n",
    "x_test = np.reshape(x_test, (x_test.shape[0], x_test.shape[1], 1))"
   ]
  },
  {
   "cell_type": "code",
   "execution_count": 56,
   "metadata": {},
   "outputs": [],
   "source": [
    "#Compiling the model\n",
    "model.compile(loss='mean_squared_error', optimizer='adam')"
   ]
  },
  {
   "cell_type": "code",
   "execution_count": 57,
   "metadata": {},
   "outputs": [
    {
     "name": "stdout",
     "output_type": "stream",
     "text": [
      "Epoch 1/50\n",
      "73/73 [==============================] - 15s 105ms/step - loss: 0.0129\n",
      "Epoch 2/50\n",
      "73/73 [==============================] - 8s 108ms/step - loss: 0.0033\n",
      "Epoch 3/50\n",
      "73/73 [==============================] - 9s 122ms/step - loss: 0.0032\n",
      "Epoch 4/50\n",
      "73/73 [==============================] - 8s 114ms/step - loss: 0.0029\n",
      "Epoch 5/50\n",
      "73/73 [==============================] - 8s 111ms/step - loss: 0.0026\n",
      "Epoch 6/50\n",
      "73/73 [==============================] - 8s 105ms/step - loss: 0.0025\n",
      "Epoch 7/50\n",
      "73/73 [==============================] - 8s 114ms/step - loss: 0.0025\n",
      "Epoch 8/50\n",
      "73/73 [==============================] - 9s 117ms/step - loss: 0.0025\n",
      "Epoch 9/50\n",
      "73/73 [==============================] - 9s 122ms/step - loss: 0.0021\n",
      "Epoch 10/50\n",
      "73/73 [==============================] - 9s 119ms/step - loss: 0.0020\n",
      "Epoch 11/50\n",
      "73/73 [==============================] - 8s 106ms/step - loss: 0.0020\n",
      "Epoch 12/50\n",
      "73/73 [==============================] - 8s 106ms/step - loss: 0.0018\n",
      "Epoch 13/50\n",
      "73/73 [==============================] - 8s 106ms/step - loss: 0.0019\n",
      "Epoch 14/50\n",
      "73/73 [==============================] - 8s 115ms/step - loss: 0.0017\n",
      "Epoch 15/50\n",
      "73/73 [==============================] - 8s 112ms/step - loss: 0.0015\n",
      "Epoch 16/50\n",
      "73/73 [==============================] - 8s 105ms/step - loss: 0.0015\n",
      "Epoch 17/50\n",
      "73/73 [==============================] - 8s 105ms/step - loss: 0.0014\n",
      "Epoch 18/50\n",
      "73/73 [==============================] - 8s 105ms/step - loss: 0.0014\n",
      "Epoch 19/50\n",
      "73/73 [==============================] - 8s 113ms/step - loss: 0.0013\n",
      "Epoch 20/50\n",
      "73/73 [==============================] - 8s 109ms/step - loss: 0.0014\n",
      "Epoch 21/50\n",
      "73/73 [==============================] - 9s 123ms/step - loss: 0.0012\n",
      "Epoch 22/50\n",
      "73/73 [==============================] - 8s 104ms/step - loss: 0.0012\n",
      "Epoch 23/50\n",
      "73/73 [==============================] - 8s 104ms/step - loss: 0.0013\n",
      "Epoch 24/50\n",
      "73/73 [==============================] - 8s 104ms/step - loss: 0.0011\n",
      "Epoch 25/50\n",
      "73/73 [==============================] - 8s 103ms/step - loss: 0.0011\n",
      "Epoch 26/50\n",
      "73/73 [==============================] - 8s 103ms/step - loss: 0.0012\n",
      "Epoch 27/50\n",
      "73/73 [==============================] - 8s 104ms/step - loss: 0.0011\n",
      "Epoch 28/50\n",
      "73/73 [==============================] - 8s 112ms/step - loss: 9.8637e-04\n",
      "Epoch 29/50\n",
      "73/73 [==============================] - 8s 116ms/step - loss: 9.3930e-04\n",
      "Epoch 30/50\n",
      "73/73 [==============================] - 8s 112ms/step - loss: 9.8791e-04\n",
      "Epoch 31/50\n",
      "73/73 [==============================] - 8s 114ms/step - loss: 9.6661e-04\n",
      "Epoch 32/50\n",
      "73/73 [==============================] - 8s 113ms/step - loss: 8.6499e-04\n",
      "Epoch 33/50\n",
      "73/73 [==============================] - 8s 109ms/step - loss: 9.3348e-04\n",
      "Epoch 34/50\n",
      "73/73 [==============================] - 8s 106ms/step - loss: 9.1030e-04\n",
      "Epoch 35/50\n",
      "73/73 [==============================] - 8s 107ms/step - loss: 9.3471e-04\n",
      "Epoch 36/50\n",
      "73/73 [==============================] - 8s 115ms/step - loss: 8.4849e-04\n",
      "Epoch 37/50\n",
      "73/73 [==============================] - 9s 118ms/step - loss: 8.6845e-04\n",
      "Epoch 38/50\n",
      "73/73 [==============================] - 8s 114ms/step - loss: 8.1228e-04\n",
      "Epoch 39/50\n",
      "73/73 [==============================] - 8s 112ms/step - loss: 8.4732e-04\n",
      "Epoch 40/50\n",
      "73/73 [==============================] - 8s 113ms/step - loss: 8.1567e-04\n",
      "Epoch 41/50\n",
      "73/73 [==============================] - 8s 106ms/step - loss: 8.0661e-04\n",
      "Epoch 42/50\n",
      "73/73 [==============================] - 8s 112ms/step - loss: 8.1365e-04\n",
      "Epoch 43/50\n",
      "73/73 [==============================] - 9s 117ms/step - loss: 8.5540e-04\n",
      "Epoch 44/50\n",
      "73/73 [==============================] - 8s 114ms/step - loss: 8.2028e-04\n",
      "Epoch 45/50\n",
      "73/73 [==============================] - 8s 107ms/step - loss: 8.6284e-04\n",
      "Epoch 46/50\n",
      "73/73 [==============================] - 8s 110ms/step - loss: 7.6312e-04\n",
      "Epoch 47/50\n",
      "73/73 [==============================] - 9s 117ms/step - loss: 7.5659e-04\n",
      "Epoch 48/50\n",
      "73/73 [==============================] - 8s 104ms/step - loss: 6.8522e-04\n",
      "Epoch 49/50\n",
      "73/73 [==============================] - 8s 110ms/step - loss: 6.7902e-04\n",
      "Epoch 50/50\n",
      "73/73 [==============================] - 7s 101ms/step - loss: 6.7901e-04\n"
     ]
    }
   ],
   "source": [
    "#Training the model\n",
    "model.fit(x_train, y_train, epochs=50, batch_size=32)\n",
    "model.save('petr4_stock_prediction.h5')"
   ]
  },
  {
   "cell_type": "code",
   "execution_count": 59,
   "metadata": {},
   "outputs": [],
   "source": [
    "#Loading the generated model\n",
    "model = load_model('petr4_stock_prediction.h5')"
   ]
  },
  {
   "cell_type": "code",
   "execution_count": 61,
   "metadata": {},
   "outputs": [
    {
     "data": {
      "text/plain": [
       "<matplotlib.legend.Legend at 0x1eb79218370>"
      ]
     },
     "execution_count": 61,
     "metadata": {},
     "output_type": "execute_result"
    },
    {
     "data": {
      "image/png": "[encoded data removed]",
      "text/plain": [
       "<Figure size 1152x576 with 1 Axes>"
      ]
     },
     "metadata": {
      "needs_background": "light"
     },
     "output_type": "display_data"
    }
   ],
   "source": [
    "#Making the predictions\n",
    "predictions = model.predict(x_test)\n",
    "predictions = scaler.inverse_transform(predictions)\n",
    "y_test_scaled = scaler.inverse_transform(y_test.reshape(-1, 1))\n",
    "\n",
    "fig, ax = plt.subplots(figsize=(16,8))\n",
    "ax.set_facecolor('#000041')\n",
    "ax.plot(y_test_scaled, color='red', label='Original price')\n",
    "plt.plot(predictions, color='cyan', label='Predicted price')\n",
    "plt.legend()"
   ]
  }
 ],
 "metadata": {
  "interpreter": {
   "hash": "337ba8bc5a43d5375170939e0772ca369fc2227911cd9d2be11fa82f9dcf45ff"
  },
  "kernelspec": {
   "display_name": "Python 3.10.1 ('venv': venv)",
   "language": "python",
   "name": "python3"
  },
  "language_info": {
   "codemirror_mode": {
    "name": "ipython",
    "version": 3
   },
   "file_extension": ".py",
   "mimetype": "text/x-python",
   "name": "python",
   "nbconvert_exporter": "python",
   "pygments_lexer": "ipython3",
   "version": "3.9.5"
  },
  "orig_nbformat": 4
 },
 "nbformat": 4,
 "nbformat_minor": 2
}
